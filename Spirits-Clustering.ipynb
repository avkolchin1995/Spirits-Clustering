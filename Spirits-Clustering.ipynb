{
 "cells": [
  {
   "cell_type": "markdown",
   "id": "5c1d7a74",
   "metadata": {},
   "source": [
    " Детальная и комплексная кластеризация спиртных напитков объемом 0.7 л, которые продаются в сети [\"КуулКлевер\"](https://www.coolclever.ru/catalog/otdokhni/all?filters=11099%255B0%255D%3D10%2611099%255B1%255D%3D11%2611099%255B2%255D%3D9%2611099%255B3%255D%3D12%2611099%255B4%255D%3D17%2611099%255B5%255D%3D13%2611099%255B6%255D%3D14%2611099%255B7%255D%3D15%2611099%255B8%255D%3D16%2611099%255B9%255D%3D43%2611109%255B0%255D%3D0.700&sort=cheap&page=9), с помощью различных методов машинного обучения.\n"
   ]
  },
  {
   "cell_type": "code",
   "execution_count": 3,
   "id": "f1ab3d96",
   "metadata": {},
   "outputs": [],
   "source": [
    "# Объявляю нужные библиотеки\n",
    "import pandas as pd # Библиотека для работы с фреймворками"
   ]
  },
  {
   "cell_type": "code",
   "execution_count": 4,
   "id": "7ab58cae",
   "metadata": {},
   "outputs": [
    {
     "data": {
      "application/vnd.microsoft.datawrangler.viewer.v0+json": {
       "columns": [
        {
         "name": "index",
         "rawType": "int64",
         "type": "integer"
        },
        {
         "name": "Напиток",
         "rawType": "object",
         "type": "string"
        },
        {
         "name": "Цена",
         "rawType": "int64",
         "type": "integer"
        },
        {
         "name": "Страна",
         "rawType": "object",
         "type": "string"
        },
        {
         "name": "Крепость",
         "rawType": "int64",
         "type": "integer"
        },
        {
         "name": "Выдержка",
         "rawType": "int64",
         "type": "integer"
        },
        {
         "name": "Подарочная упаковка",
         "rawType": "int64",
         "type": "integer"
        }
       ],
       "conversionMethod": "pd.DataFrame",
       "ref": "817c7164-8ff7-4c73-afd2-5b46e34c557f",
       "rows": [
        [
         "0",
         "Водка",
         "490",
         "Россия",
         "40",
         "0",
         "0"
        ]
       ],
       "shape": {
        "columns": 6,
        "rows": 1
       }
      },
      "text/html": [
       "<div>\n",
       "<style scoped>\n",
       "    .dataframe tbody tr th:only-of-type {\n",
       "        vertical-align: middle;\n",
       "    }\n",
       "\n",
       "    .dataframe tbody tr th {\n",
       "        vertical-align: top;\n",
       "    }\n",
       "\n",
       "    .dataframe thead th {\n",
       "        text-align: right;\n",
       "    }\n",
       "</style>\n",
       "<table border=\"1\" class=\"dataframe\">\n",
       "  <thead>\n",
       "    <tr style=\"text-align: right;\">\n",
       "      <th></th>\n",
       "      <th>Напиток</th>\n",
       "      <th>Цена</th>\n",
       "      <th>Страна</th>\n",
       "      <th>Крепость</th>\n",
       "      <th>Выдержка</th>\n",
       "      <th>Подарочная упаковка</th>\n",
       "    </tr>\n",
       "  </thead>\n",
       "  <tbody>\n",
       "    <tr>\n",
       "      <th>0</th>\n",
       "      <td>Водка</td>\n",
       "      <td>490</td>\n",
       "      <td>Россия</td>\n",
       "      <td>40</td>\n",
       "      <td>0</td>\n",
       "      <td>0</td>\n",
       "    </tr>\n",
       "  </tbody>\n",
       "</table>\n",
       "</div>"
      ],
      "text/plain": [
       "  Напиток  Цена  Страна  Крепость  Выдержка  Подарочная упаковка\n",
       "0   Водка   490  Россия        40         0                    0"
      ]
     },
     "execution_count": 4,
     "metadata": {},
     "output_type": "execute_result"
    }
   ],
   "source": [
    "# Загрузка датасета из csv-файла\n",
    "df = pd.read_csv('CoolClever.csv', sep=',')\n",
    "df"
   ]
  }
 ],
 "metadata": {
  "kernelspec": {
   "display_name": "myenv",
   "language": "python",
   "name": "python3"
  },
  "language_info": {
   "codemirror_mode": {
    "name": "ipython",
    "version": 3
   },
   "file_extension": ".py",
   "mimetype": "text/x-python",
   "name": "python",
   "nbconvert_exporter": "python",
   "pygments_lexer": "ipython3",
   "version": "3.12.3"
  }
 },
 "nbformat": 4,
 "nbformat_minor": 5
}
