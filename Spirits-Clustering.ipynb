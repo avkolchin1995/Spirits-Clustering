{
 "cells": [
  {
   "cell_type": "markdown",
   "id": "5c1d7a74",
   "metadata": {},
   "source": [
    " Детальная и комплексная кластеризация спиртных напитков объемом 0.7 л, которые продаются в сети [\"КуулКлевер\"](https://www.coolclever.ru/catalog/otdokhni/all?filters=11099%255B0%255D%3D10%2611099%255B1%255D%3D11%2611099%255B2%255D%3D9%2611099%255B3%255D%3D12%2611099%255B4%255D%3D17%2611099%255B5%255D%3D13%2611099%255B6%255D%3D14%2611099%255B7%255D%3D15%2611099%255B8%255D%3D16%2611099%255B9%255D%3D43%2611109%255B0%255D%3D0.700&sort=cheap&page=9), с помощью различных методов машинного обучения.\n"
   ]
  },
  {
   "cell_type": "code",
   "execution_count": 592,
   "id": "f1ab3d96",
   "metadata": {},
   "outputs": [],
   "source": [
    "# Объявляю нужные библиотеки\n",
    "import pandas as pd # Библиотека для работы с фреймворками\n",
    "import matplotlib.pyplot as plt # Библиотека для визуализации данных\n",
    "import seaborn as sns # Библиотека для визуализации данных\n",
    "from sklearn.preprocessing import LabelEncoder # Объект разметки текстовых данных"
   ]
  },
  {
   "cell_type": "code",
   "execution_count": 593,
   "id": "7ab58cae",
   "metadata": {},
   "outputs": [
    {
     "data": {
      "application/vnd.microsoft.datawrangler.viewer.v0+json": {
       "columns": [
        {
         "name": "index",
         "rawType": "int64",
         "type": "integer"
        },
        {
         "name": "Напиток",
         "rawType": "object",
         "type": "string"
        },
        {
         "name": "Цена",
         "rawType": "int64",
         "type": "integer"
        },
        {
         "name": "Страна",
         "rawType": "object",
         "type": "string"
        },
        {
         "name": "Крепость",
         "rawType": "float64",
         "type": "float"
        },
        {
         "name": "Выдержка",
         "rawType": "float64",
         "type": "float"
        },
        {
         "name": "Подарочная упаковка",
         "rawType": "int64",
         "type": "integer"
        }
       ],
       "conversionMethod": "pd.DataFrame",
       "ref": "69f4b4fa-7810-449b-8a21-b39697e5bd1c",
       "rows": [
        [
         "0",
         "Водка",
         "490",
         "Россия",
         "40.0",
         "0.0",
         "0"
        ],
        [
         "1",
         "Водка",
         "490",
         "Россия",
         "40.0",
         "0.0",
         "0"
        ],
        [
         "2",
         "Водка",
         "490",
         "Россия",
         "40.0",
         "0.0",
         "0"
        ],
        [
         "3",
         "Водка",
         "539",
         "Россия",
         "40.0",
         "0.0",
         "0"
        ],
        [
         "4",
         "Водка",
         "539",
         "Россия",
         "40.0",
         "0.0",
         "0"
        ],
        [
         "5",
         "Водка",
         "549",
         "Россия",
         "40.0",
         "0.0",
         "0"
        ],
        [
         "6",
         "Водка",
         "599",
         "Россия",
         "40.0",
         "0.0",
         "0"
        ],
        [
         "7",
         "Водка",
         "649",
         "Россия",
         "40.0",
         "0.0",
         "0"
        ],
        [
         "8",
         "Джин",
         "659",
         "Россия",
         "40.0",
         "0.0",
         "0"
        ],
        [
         "9",
         "Джин",
         "659",
         "Россия",
         "40.0",
         "0.0",
         "0"
        ],
        [
         "10",
         "Джин",
         "659",
         "Россия",
         "40.0",
         "0.0",
         "0"
        ],
        [
         "11",
         "Джин",
         "659",
         "Россия",
         "40.0",
         "0.0",
         "0"
        ],
        [
         "12",
         "Джин",
         "659",
         "Россия",
         "40.0",
         "0.0",
         "0"
        ],
        [
         "13",
         "Водка",
         "699",
         "Россия",
         "40.0",
         "0.0",
         "0"
        ],
        [
         "14",
         "Виски",
         "899",
         "Шотландия",
         "40.0",
         "3.0",
         "0"
        ],
        [
         "15",
         "Водка",
         "659",
         "Россия",
         "40.0",
         "0.0",
         "0"
        ],
        [
         "16",
         "Бренди",
         "1049",
         "Франция",
         "40.0",
         "2.0",
         "0"
        ],
        [
         "17",
         "Ром",
         "1099",
         "Нидерланды",
         "37.5",
         "0.0",
         "0"
        ],
        [
         "18",
         "Ром",
         "1149",
         "Нидерланды",
         "37.5",
         "0.0",
         "0"
        ],
        [
         "19",
         "Водка",
         "649",
         "Англия",
         "40.0",
         "0.0",
         "0"
        ],
        [
         "20",
         "Бренди",
         "1189",
         "Франция",
         "40.0",
         "1.0",
         "0"
        ],
        [
         "21",
         "Ликер",
         "1199",
         "Чехия",
         "38.0",
         "0.0",
         "0"
        ],
        [
         "22",
         "Виски",
         "1199",
         "Шотландия",
         "40.0",
         "3.0",
         "0"
        ],
        [
         "23",
         "Джин",
         "1249",
         "Англия",
         "40.0",
         "0.0",
         "0"
        ],
        [
         "24",
         "Виски",
         "1299",
         "Шотландия",
         "40.0",
         "3.0",
         "0"
        ],
        [
         "25",
         "Джин",
         "1299",
         "Англия",
         "40.0",
         "0.0",
         "0"
        ],
        [
         "26",
         "Водка",
         "1299",
         "Англия",
         "40.0",
         "0.0",
         "0"
        ],
        [
         "27",
         "Ром",
         "1299",
         "Франция",
         "40.0",
         "0.0",
         "0"
        ],
        [
         "28",
         "Ром",
         "1299",
         "Франция",
         "40.0",
         "0.0",
         "0"
        ],
        [
         "29",
         "Ром",
         "1350",
         "Нидерланды",
         "40.0",
         "0.0",
         "0"
        ],
        [
         "30",
         "Ром",
         "1379",
         "Доминиканы",
         "37.5",
         "0.0",
         "0"
        ],
        [
         "31",
         "Водка",
         "1399",
         "Франция",
         "40.0",
         "0.0",
         "0"
        ],
        [
         "32",
         "Бурбон",
         "1399",
         "США",
         "40.0",
         "3.0",
         "0"
        ],
        [
         "33",
         "Ликер",
         "1490",
         "Германия",
         "36.7",
         "0.0",
         "0"
        ],
        [
         "34",
         "Водка",
         "1490",
         "Нидерланды",
         "40.0",
         "0.0",
         "0"
        ],
        [
         "35",
         "Бурбон",
         "1499",
         "США",
         "40.0",
         "3.0",
         "0"
        ],
        [
         "36",
         "Виски",
         "1549",
         "Шотландия",
         "40.0",
         "7.0",
         "0"
        ],
        [
         "37",
         "Бренди",
         "1550",
         "Испания",
         "36.0",
         "1.0",
         "0"
        ],
        [
         "38",
         "Ром",
         "1649",
         "Германия",
         "38.0",
         "0.0",
         "0"
        ],
        [
         "39",
         "Виски",
         "1669",
         "Шотландия",
         "40.0",
         "3.0",
         "0"
        ],
        [
         "40",
         "Виски",
         "1669",
         "Шотландия",
         "40.0",
         "3.0",
         "0"
        ],
        [
         "41",
         "Ром",
         "1749",
         "Германия",
         "35.0",
         "0.0",
         "0"
        ],
        [
         "42",
         "Виски",
         "1166",
         "Шотландия",
         "40.0",
         "3.0",
         "0"
        ],
        [
         "43",
         "Ром",
         "1790",
         "Англия",
         "41.0",
         "0.0",
         "0"
        ],
        [
         "44",
         "Виски",
         "1799",
         "Ирландия",
         "40.0",
         "3.0",
         "0"
        ],
        [
         "45",
         "Джин",
         "1849",
         "Англия",
         "38.0",
         "0.0",
         "0"
        ],
        [
         "46",
         "Ликер",
         "1890",
         "Ирландия",
         "17.0",
         "0.0",
         "0"
        ],
        [
         "47",
         "Виски",
         "1300",
         "Шотландия",
         "40.0",
         "7.0",
         "0"
        ],
        [
         "48",
         "Бренди",
         "1990",
         "Франция",
         "40.0",
         "4.0",
         "0"
        ],
        [
         "49",
         "Джин",
         "1999",
         "Англия",
         "41.7",
         "0.0",
         "0"
        ]
       ],
       "shape": {
        "columns": 6,
        "rows": 206
       }
      },
      "text/html": [
       "<div>\n",
       "<style scoped>\n",
       "    .dataframe tbody tr th:only-of-type {\n",
       "        vertical-align: middle;\n",
       "    }\n",
       "\n",
       "    .dataframe tbody tr th {\n",
       "        vertical-align: top;\n",
       "    }\n",
       "\n",
       "    .dataframe thead th {\n",
       "        text-align: right;\n",
       "    }\n",
       "</style>\n",
       "<table border=\"1\" class=\"dataframe\">\n",
       "  <thead>\n",
       "    <tr style=\"text-align: right;\">\n",
       "      <th></th>\n",
       "      <th>Напиток</th>\n",
       "      <th>Цена</th>\n",
       "      <th>Страна</th>\n",
       "      <th>Крепость</th>\n",
       "      <th>Выдержка</th>\n",
       "      <th>Подарочная упаковка</th>\n",
       "    </tr>\n",
       "  </thead>\n",
       "  <tbody>\n",
       "    <tr>\n",
       "      <th>0</th>\n",
       "      <td>Водка</td>\n",
       "      <td>490</td>\n",
       "      <td>Россия</td>\n",
       "      <td>40.0</td>\n",
       "      <td>0.0</td>\n",
       "      <td>0</td>\n",
       "    </tr>\n",
       "    <tr>\n",
       "      <th>1</th>\n",
       "      <td>Водка</td>\n",
       "      <td>490</td>\n",
       "      <td>Россия</td>\n",
       "      <td>40.0</td>\n",
       "      <td>0.0</td>\n",
       "      <td>0</td>\n",
       "    </tr>\n",
       "    <tr>\n",
       "      <th>2</th>\n",
       "      <td>Водка</td>\n",
       "      <td>490</td>\n",
       "      <td>Россия</td>\n",
       "      <td>40.0</td>\n",
       "      <td>0.0</td>\n",
       "      <td>0</td>\n",
       "    </tr>\n",
       "    <tr>\n",
       "      <th>3</th>\n",
       "      <td>Водка</td>\n",
       "      <td>539</td>\n",
       "      <td>Россия</td>\n",
       "      <td>40.0</td>\n",
       "      <td>0.0</td>\n",
       "      <td>0</td>\n",
       "    </tr>\n",
       "    <tr>\n",
       "      <th>4</th>\n",
       "      <td>Водка</td>\n",
       "      <td>539</td>\n",
       "      <td>Россия</td>\n",
       "      <td>40.0</td>\n",
       "      <td>0.0</td>\n",
       "      <td>0</td>\n",
       "    </tr>\n",
       "    <tr>\n",
       "      <th>...</th>\n",
       "      <td>...</td>\n",
       "      <td>...</td>\n",
       "      <td>...</td>\n",
       "      <td>...</td>\n",
       "      <td>...</td>\n",
       "      <td>...</td>\n",
       "    </tr>\n",
       "    <tr>\n",
       "      <th>201</th>\n",
       "      <td>Коньяк</td>\n",
       "      <td>36000</td>\n",
       "      <td>Франция</td>\n",
       "      <td>41.2</td>\n",
       "      <td>29.0</td>\n",
       "      <td>1</td>\n",
       "    </tr>\n",
       "    <tr>\n",
       "      <th>202</th>\n",
       "      <td>Коньяк</td>\n",
       "      <td>40000</td>\n",
       "      <td>Франция</td>\n",
       "      <td>41.6</td>\n",
       "      <td>30.0</td>\n",
       "      <td>0</td>\n",
       "    </tr>\n",
       "    <tr>\n",
       "      <th>203</th>\n",
       "      <td>Коньяк</td>\n",
       "      <td>50000</td>\n",
       "      <td>Франция</td>\n",
       "      <td>42.3</td>\n",
       "      <td>35.0</td>\n",
       "      <td>1</td>\n",
       "    </tr>\n",
       "    <tr>\n",
       "      <th>204</th>\n",
       "      <td>Виски</td>\n",
       "      <td>59000</td>\n",
       "      <td>Шотландия</td>\n",
       "      <td>46.7</td>\n",
       "      <td>25.0</td>\n",
       "      <td>1</td>\n",
       "    </tr>\n",
       "    <tr>\n",
       "      <th>205</th>\n",
       "      <td>Коньяк</td>\n",
       "      <td>48000</td>\n",
       "      <td>Франция</td>\n",
       "      <td>45.0</td>\n",
       "      <td>10.0</td>\n",
       "      <td>1</td>\n",
       "    </tr>\n",
       "  </tbody>\n",
       "</table>\n",
       "<p>206 rows × 6 columns</p>\n",
       "</div>"
      ],
      "text/plain": [
       "    Напиток   Цена     Страна  Крепость  Выдержка  Подарочная упаковка\n",
       "0     Водка    490     Россия      40.0       0.0                    0\n",
       "1     Водка    490     Россия      40.0       0.0                    0\n",
       "2     Водка    490     Россия      40.0       0.0                    0\n",
       "3     Водка    539     Россия      40.0       0.0                    0\n",
       "4     Водка    539     Россия      40.0       0.0                    0\n",
       "..      ...    ...        ...       ...       ...                  ...\n",
       "201  Коньяк  36000    Франция      41.2      29.0                    1\n",
       "202  Коньяк  40000    Франция      41.6      30.0                    0\n",
       "203  Коньяк  50000    Франция      42.3      35.0                    1\n",
       "204   Виски  59000  Шотландия      46.7      25.0                    1\n",
       "205  Коньяк  48000    Франция      45.0      10.0                    1\n",
       "\n",
       "[206 rows x 6 columns]"
      ]
     },
     "execution_count": 593,
     "metadata": {},
     "output_type": "execute_result"
    }
   ],
   "source": [
    "# Загрузка датасета из csv-файла\n",
    "df = pd.read_csv('CoolClever.csv', sep=',')\n",
    "df"
   ]
  },
  {
   "cell_type": "code",
   "execution_count": 594,
   "id": "0642e352",
   "metadata": {},
   "outputs": [
    {
     "name": "stdout",
     "output_type": "stream",
     "text": [
      "<class 'pandas.core.frame.DataFrame'>\n",
      "RangeIndex: 206 entries, 0 to 205\n",
      "Data columns (total 6 columns):\n",
      " #   Column               Non-Null Count  Dtype  \n",
      "---  ------               --------------  -----  \n",
      " 0   Напиток              206 non-null    object \n",
      " 1   Цена                 206 non-null    int64  \n",
      " 2   Страна               206 non-null    object \n",
      " 3   Крепость             206 non-null    float64\n",
      " 4   Выдержка             206 non-null    float64\n",
      " 5   Подарочная упаковка  206 non-null    int64  \n",
      "dtypes: float64(2), int64(2), object(2)\n",
      "memory usage: 9.8+ KB\n"
     ]
    }
   ],
   "source": [
    "# Информация о датасете\n",
    "df.info()"
   ]
  },
  {
   "cell_type": "markdown",
   "id": "74c42067",
   "metadata": {},
   "source": [
    "Перед кластеризацией необходимо провести комлпексный и детальный анализ данных, собранных в таблице, чтобы выявить имеющиеся закономерности."
   ]
  },
  {
   "cell_type": "code",
   "execution_count": 595,
   "id": "1ae14924",
   "metadata": {},
   "outputs": [
    {
     "data": {
      "application/vnd.microsoft.datawrangler.viewer.v0+json": {
       "columns": [
        {
         "name": "index",
         "rawType": "object",
         "type": "string"
        },
        {
         "name": "Цена",
         "rawType": "float64",
         "type": "float"
        },
        {
         "name": "Крепость",
         "rawType": "float64",
         "type": "float"
        },
        {
         "name": "Выдержка",
         "rawType": "float64",
         "type": "float"
        },
        {
         "name": "Подарочная упаковка",
         "rawType": "float64",
         "type": "float"
        }
       ],
       "conversionMethod": "pd.DataFrame",
       "ref": "55d72bfc-9be5-41cd-95ec-b7f35c2bf856",
       "rows": [
        [
         "count",
         "206.0",
         "206.0",
         "206.0",
         "206.0"
        ],
        [
         "mean",
         "6743.873786407767",
         "41.54368932038835",
         "7.104368932038835",
         "0.5"
        ],
        [
         "std",
         "9124.039501929663",
         "5.170274699555237",
         "9.361833796796168",
         "0.501218028601448"
        ],
        [
         "min",
         "490.0",
         "17.0",
         "0.0",
         "0.0"
        ],
        [
         "25%",
         "1992.25",
         "40.0",
         "2.0",
         "0.0"
        ],
        [
         "50%",
         "3490.0",
         "40.0",
         "4.0",
         "0.5"
        ],
        [
         "75%",
         "7775.0",
         "42.0",
         "10.0",
         "1.0"
        ],
        [
         "max",
         "59000.0",
         "58.9",
         "57.0",
         "1.0"
        ]
       ],
       "shape": {
        "columns": 4,
        "rows": 8
       }
      },
      "text/html": [
       "<div>\n",
       "<style scoped>\n",
       "    .dataframe tbody tr th:only-of-type {\n",
       "        vertical-align: middle;\n",
       "    }\n",
       "\n",
       "    .dataframe tbody tr th {\n",
       "        vertical-align: top;\n",
       "    }\n",
       "\n",
       "    .dataframe thead th {\n",
       "        text-align: right;\n",
       "    }\n",
       "</style>\n",
       "<table border=\"1\" class=\"dataframe\">\n",
       "  <thead>\n",
       "    <tr style=\"text-align: right;\">\n",
       "      <th></th>\n",
       "      <th>Цена</th>\n",
       "      <th>Крепость</th>\n",
       "      <th>Выдержка</th>\n",
       "      <th>Подарочная упаковка</th>\n",
       "    </tr>\n",
       "  </thead>\n",
       "  <tbody>\n",
       "    <tr>\n",
       "      <th>count</th>\n",
       "      <td>206.000000</td>\n",
       "      <td>206.000000</td>\n",
       "      <td>206.000000</td>\n",
       "      <td>206.000000</td>\n",
       "    </tr>\n",
       "    <tr>\n",
       "      <th>mean</th>\n",
       "      <td>6743.873786</td>\n",
       "      <td>41.543689</td>\n",
       "      <td>7.104369</td>\n",
       "      <td>0.500000</td>\n",
       "    </tr>\n",
       "    <tr>\n",
       "      <th>std</th>\n",
       "      <td>9124.039502</td>\n",
       "      <td>5.170275</td>\n",
       "      <td>9.361834</td>\n",
       "      <td>0.501218</td>\n",
       "    </tr>\n",
       "    <tr>\n",
       "      <th>min</th>\n",
       "      <td>490.000000</td>\n",
       "      <td>17.000000</td>\n",
       "      <td>0.000000</td>\n",
       "      <td>0.000000</td>\n",
       "    </tr>\n",
       "    <tr>\n",
       "      <th>25%</th>\n",
       "      <td>1992.250000</td>\n",
       "      <td>40.000000</td>\n",
       "      <td>2.000000</td>\n",
       "      <td>0.000000</td>\n",
       "    </tr>\n",
       "    <tr>\n",
       "      <th>50%</th>\n",
       "      <td>3490.000000</td>\n",
       "      <td>40.000000</td>\n",
       "      <td>4.000000</td>\n",
       "      <td>0.500000</td>\n",
       "    </tr>\n",
       "    <tr>\n",
       "      <th>75%</th>\n",
       "      <td>7775.000000</td>\n",
       "      <td>42.000000</td>\n",
       "      <td>10.000000</td>\n",
       "      <td>1.000000</td>\n",
       "    </tr>\n",
       "    <tr>\n",
       "      <th>max</th>\n",
       "      <td>59000.000000</td>\n",
       "      <td>58.900000</td>\n",
       "      <td>57.000000</td>\n",
       "      <td>1.000000</td>\n",
       "    </tr>\n",
       "  </tbody>\n",
       "</table>\n",
       "</div>"
      ],
      "text/plain": [
       "               Цена    Крепость    Выдержка  Подарочная упаковка\n",
       "count    206.000000  206.000000  206.000000           206.000000\n",
       "mean    6743.873786   41.543689    7.104369             0.500000\n",
       "std     9124.039502    5.170275    9.361834             0.501218\n",
       "min      490.000000   17.000000    0.000000             0.000000\n",
       "25%     1992.250000   40.000000    2.000000             0.000000\n",
       "50%     3490.000000   40.000000    4.000000             0.500000\n",
       "75%     7775.000000   42.000000   10.000000             1.000000\n",
       "max    59000.000000   58.900000   57.000000             1.000000"
      ]
     },
     "execution_count": 595,
     "metadata": {},
     "output_type": "execute_result"
    }
   ],
   "source": [
    "# Описание датасета\n",
    "df.describe()"
   ]
  },
  {
   "cell_type": "code",
   "execution_count": 596,
   "id": "73eb52ca",
   "metadata": {},
   "outputs": [
    {
     "data": {
      "image/png": "[encoded data removed]",
      "text/plain": [
       "<Figure size 1000x1000 with 1 Axes>"
      ]
     },
     "metadata": {},
     "output_type": "display_data"
    }
   ],
   "source": [
    "# Доля видов напитков в таблице\n",
    "plt.figure(figsize=(10,10))\n",
    "df['Напиток'].value_counts().plot.pie(\n",
    "    autopct='%.1f%%',\n",
    "    wedgeprops={\n",
    "        'edgecolor': 'black',\n",
    "        'linewidth': 0.5,\n",
    "        'linestyle': '-'}\n",
    "    )\n",
    "plt.title('Доля видов напитков')\n",
    "plt.ylabel('')\n",
    "plt.show()"
   ]
  },
  {
   "cell_type": "markdown",
   "id": "601242bb",
   "metadata": {},
   "source": [
    "Почти половину (49%) портфеля напитков занимают виски и коньяк."
   ]
  },
  {
   "cell_type": "code",
   "execution_count": 597,
   "id": "73278242",
   "metadata": {},
   "outputs": [
    {
     "data": {
      "image/png": "[encoded data removed]",
      "text/plain": [
       "<Figure size 1000x1000 with 1 Axes>"
      ]
     },
     "metadata": {},
     "output_type": "display_data"
    }
   ],
   "source": [
    "# Доля стран в напитке\n",
    "plt.figure(figsize=(10,10))\n",
    "df['Страна'].value_counts().plot.pie(\n",
    "    autopct='%.1f%%',\n",
    "    wedgeprops={\n",
    "        'edgecolor': 'black',\n",
    "        'linewidth': 0.5,\n",
    "        'linestyle': '-'}\n",
    "    )\n",
    "plt.title('Доля стран происхождения')\n",
    "plt.ylabel('')\n",
    "plt.show()"
   ]
  },
  {
   "cell_type": "markdown",
   "id": "6d0adb60",
   "metadata": {},
   "source": [
    "На отечественные напитки приходится лишь 7.3% от всего портфеля. В то же время большая часть ассортимента импортируется из Франции (44.2%)."
   ]
  },
  {
   "cell_type": "code",
   "execution_count": 598,
   "id": "aef7ebcb",
   "metadata": {},
   "outputs": [
    {
     "data": {
      "image/png": "[encoded data removed]",
      "text/plain": [
       "<Figure size 1000x1000 with 2 Axes>"
      ]
     },
     "metadata": {},
     "output_type": "display_data"
    }
   ],
   "source": [
    "# Связь между видом напитков и страной происхождения \n",
    "cross_tab = pd.crosstab(df['Страна'],df['Напиток']) # Таблица сопряженности между видом напитка и страной происхождения\n",
    "#\n",
    "# Тепловая карта сопряженности\n",
    "plt.figure(figsize=(10,10))\n",
    "sns.heatmap(cross_tab, annot=True)\n",
    "plt.show()"
   ]
  },
  {
   "cell_type": "code",
   "execution_count": 599,
   "id": "f2260d49",
   "metadata": {},
   "outputs": [
    {
     "data": {
      "application/vnd.microsoft.datawrangler.viewer.v0+json": {
       "columns": [
        {
         "name": "index",
         "rawType": "int64",
         "type": "integer"
        },
        {
         "name": "Напиток",
         "rawType": "int64",
         "type": "integer"
        },
        {
         "name": "Цена",
         "rawType": "int64",
         "type": "integer"
        },
        {
         "name": "Страна",
         "rawType": "int64",
         "type": "integer"
        },
        {
         "name": "Крепость",
         "rawType": "float64",
         "type": "float"
        },
        {
         "name": "Выдержка",
         "rawType": "float64",
         "type": "float"
        },
        {
         "name": "Подарочная упаковка",
         "rawType": "int64",
         "type": "integer"
        }
       ],
       "conversionMethod": "pd.DataFrame",
       "ref": "0047dae3-9526-4fd4-9c54-24ca595b32d5",
       "rows": [
        [
         "0",
         "4",
         "490",
         "7",
         "40.0",
         "0.0",
         "0"
        ],
        [
         "1",
         "4",
         "490",
         "7",
         "40.0",
         "0.0",
         "0"
        ],
        [
         "2",
         "4",
         "490",
         "7",
         "40.0",
         "0.0",
         "0"
        ],
        [
         "3",
         "4",
         "539",
         "7",
         "40.0",
         "0.0",
         "0"
        ],
        [
         "4",
         "4",
         "539",
         "7",
         "40.0",
         "0.0",
         "0"
        ],
        [
         "5",
         "4",
         "549",
         "7",
         "40.0",
         "0.0",
         "0"
        ],
        [
         "6",
         "4",
         "599",
         "7",
         "40.0",
         "0.0",
         "0"
        ],
        [
         "7",
         "4",
         "649",
         "7",
         "40.0",
         "0.0",
         "0"
        ],
        [
         "8",
         "5",
         "659",
         "7",
         "40.0",
         "0.0",
         "0"
        ],
        [
         "9",
         "5",
         "659",
         "7",
         "40.0",
         "0.0",
         "0"
        ],
        [
         "10",
         "5",
         "659",
         "7",
         "40.0",
         "0.0",
         "0"
        ],
        [
         "11",
         "5",
         "659",
         "7",
         "40.0",
         "0.0",
         "0"
        ],
        [
         "12",
         "5",
         "659",
         "7",
         "40.0",
         "0.0",
         "0"
        ],
        [
         "13",
         "4",
         "699",
         "7",
         "40.0",
         "0.0",
         "0"
        ],
        [
         "14",
         "3",
         "899",
         "13",
         "40.0",
         "3.0",
         "0"
        ],
        [
         "15",
         "4",
         "659",
         "7",
         "40.0",
         "0.0",
         "0"
        ],
        [
         "16",
         "1",
         "1049",
         "10",
         "40.0",
         "2.0",
         "0"
        ],
        [
         "17",
         "9",
         "1099",
         "6",
         "37.5",
         "0.0",
         "0"
        ],
        [
         "18",
         "9",
         "1149",
         "6",
         "37.5",
         "0.0",
         "0"
        ],
        [
         "19",
         "4",
         "649",
         "0",
         "40.0",
         "0.0",
         "0"
        ],
        [
         "20",
         "1",
         "1189",
         "10",
         "40.0",
         "1.0",
         "0"
        ],
        [
         "21",
         "8",
         "1199",
         "11",
         "38.0",
         "0.0",
         "0"
        ],
        [
         "22",
         "3",
         "1199",
         "13",
         "40.0",
         "3.0",
         "0"
        ],
        [
         "23",
         "5",
         "1249",
         "0",
         "40.0",
         "0.0",
         "0"
        ],
        [
         "24",
         "3",
         "1299",
         "13",
         "40.0",
         "3.0",
         "0"
        ],
        [
         "25",
         "5",
         "1299",
         "0",
         "40.0",
         "0.0",
         "0"
        ],
        [
         "26",
         "4",
         "1299",
         "0",
         "40.0",
         "0.0",
         "0"
        ],
        [
         "27",
         "9",
         "1299",
         "10",
         "40.0",
         "0.0",
         "0"
        ],
        [
         "28",
         "9",
         "1299",
         "10",
         "40.0",
         "0.0",
         "0"
        ],
        [
         "29",
         "9",
         "1350",
         "6",
         "40.0",
         "0.0",
         "0"
        ],
        [
         "30",
         "9",
         "1379",
         "2",
         "37.5",
         "0.0",
         "0"
        ],
        [
         "31",
         "4",
         "1399",
         "10",
         "40.0",
         "0.0",
         "0"
        ],
        [
         "32",
         "2",
         "1399",
         "8",
         "40.0",
         "3.0",
         "0"
        ],
        [
         "33",
         "8",
         "1490",
         "1",
         "36.7",
         "0.0",
         "0"
        ],
        [
         "34",
         "4",
         "1490",
         "6",
         "40.0",
         "0.0",
         "0"
        ],
        [
         "35",
         "2",
         "1499",
         "8",
         "40.0",
         "3.0",
         "0"
        ],
        [
         "36",
         "3",
         "1549",
         "13",
         "40.0",
         "7.0",
         "0"
        ],
        [
         "37",
         "1",
         "1550",
         "4",
         "36.0",
         "1.0",
         "0"
        ],
        [
         "38",
         "9",
         "1649",
         "1",
         "38.0",
         "0.0",
         "0"
        ],
        [
         "39",
         "3",
         "1669",
         "13",
         "40.0",
         "3.0",
         "0"
        ],
        [
         "40",
         "3",
         "1669",
         "13",
         "40.0",
         "3.0",
         "0"
        ],
        [
         "41",
         "9",
         "1749",
         "1",
         "35.0",
         "0.0",
         "0"
        ],
        [
         "42",
         "3",
         "1166",
         "13",
         "40.0",
         "3.0",
         "0"
        ],
        [
         "43",
         "9",
         "1790",
         "0",
         "41.0",
         "0.0",
         "0"
        ],
        [
         "44",
         "3",
         "1799",
         "3",
         "40.0",
         "3.0",
         "0"
        ],
        [
         "45",
         "5",
         "1849",
         "0",
         "38.0",
         "0.0",
         "0"
        ],
        [
         "46",
         "8",
         "1890",
         "3",
         "17.0",
         "0.0",
         "0"
        ],
        [
         "47",
         "3",
         "1300",
         "13",
         "40.0",
         "7.0",
         "0"
        ],
        [
         "48",
         "1",
         "1990",
         "10",
         "40.0",
         "4.0",
         "0"
        ],
        [
         "49",
         "5",
         "1999",
         "0",
         "41.7",
         "0.0",
         "0"
        ]
       ],
       "shape": {
        "columns": 6,
        "rows": 206
       }
      },
      "text/html": [
       "<div>\n",
       "<style scoped>\n",
       "    .dataframe tbody tr th:only-of-type {\n",
       "        vertical-align: middle;\n",
       "    }\n",
       "\n",
       "    .dataframe tbody tr th {\n",
       "        vertical-align: top;\n",
       "    }\n",
       "\n",
       "    .dataframe thead th {\n",
       "        text-align: right;\n",
       "    }\n",
       "</style>\n",
       "<table border=\"1\" class=\"dataframe\">\n",
       "  <thead>\n",
       "    <tr style=\"text-align: right;\">\n",
       "      <th></th>\n",
       "      <th>Напиток</th>\n",
       "      <th>Цена</th>\n",
       "      <th>Страна</th>\n",
       "      <th>Крепость</th>\n",
       "      <th>Выдержка</th>\n",
       "      <th>Подарочная упаковка</th>\n",
       "    </tr>\n",
       "  </thead>\n",
       "  <tbody>\n",
       "    <tr>\n",
       "      <th>0</th>\n",
       "      <td>4</td>\n",
       "      <td>490</td>\n",
       "      <td>7</td>\n",
       "      <td>40.0</td>\n",
       "      <td>0.0</td>\n",
       "      <td>0</td>\n",
       "    </tr>\n",
       "    <tr>\n",
       "      <th>1</th>\n",
       "      <td>4</td>\n",
       "      <td>490</td>\n",
       "      <td>7</td>\n",
       "      <td>40.0</td>\n",
       "      <td>0.0</td>\n",
       "      <td>0</td>\n",
       "    </tr>\n",
       "    <tr>\n",
       "      <th>2</th>\n",
       "      <td>4</td>\n",
       "      <td>490</td>\n",
       "      <td>7</td>\n",
       "      <td>40.0</td>\n",
       "      <td>0.0</td>\n",
       "      <td>0</td>\n",
       "    </tr>\n",
       "    <tr>\n",
       "      <th>3</th>\n",
       "      <td>4</td>\n",
       "      <td>539</td>\n",
       "      <td>7</td>\n",
       "      <td>40.0</td>\n",
       "      <td>0.0</td>\n",
       "      <td>0</td>\n",
       "    </tr>\n",
       "    <tr>\n",
       "      <th>4</th>\n",
       "      <td>4</td>\n",
       "      <td>539</td>\n",
       "      <td>7</td>\n",
       "      <td>40.0</td>\n",
       "      <td>0.0</td>\n",
       "      <td>0</td>\n",
       "    </tr>\n",
       "    <tr>\n",
       "      <th>...</th>\n",
       "      <td>...</td>\n",
       "      <td>...</td>\n",
       "      <td>...</td>\n",
       "      <td>...</td>\n",
       "      <td>...</td>\n",
       "      <td>...</td>\n",
       "    </tr>\n",
       "    <tr>\n",
       "      <th>201</th>\n",
       "      <td>7</td>\n",
       "      <td>36000</td>\n",
       "      <td>10</td>\n",
       "      <td>41.2</td>\n",
       "      <td>29.0</td>\n",
       "      <td>1</td>\n",
       "    </tr>\n",
       "    <tr>\n",
       "      <th>202</th>\n",
       "      <td>7</td>\n",
       "      <td>40000</td>\n",
       "      <td>10</td>\n",
       "      <td>41.6</td>\n",
       "      <td>30.0</td>\n",
       "      <td>0</td>\n",
       "    </tr>\n",
       "    <tr>\n",
       "      <th>203</th>\n",
       "      <td>7</td>\n",
       "      <td>50000</td>\n",
       "      <td>10</td>\n",
       "      <td>42.3</td>\n",
       "      <td>35.0</td>\n",
       "      <td>1</td>\n",
       "    </tr>\n",
       "    <tr>\n",
       "      <th>204</th>\n",
       "      <td>3</td>\n",
       "      <td>59000</td>\n",
       "      <td>13</td>\n",
       "      <td>46.7</td>\n",
       "      <td>25.0</td>\n",
       "      <td>1</td>\n",
       "    </tr>\n",
       "    <tr>\n",
       "      <th>205</th>\n",
       "      <td>7</td>\n",
       "      <td>48000</td>\n",
       "      <td>10</td>\n",
       "      <td>45.0</td>\n",
       "      <td>10.0</td>\n",
       "      <td>1</td>\n",
       "    </tr>\n",
       "  </tbody>\n",
       "</table>\n",
       "<p>206 rows × 6 columns</p>\n",
       "</div>"
      ],
      "text/plain": [
       "     Напиток   Цена  Страна  Крепость  Выдержка  Подарочная упаковка\n",
       "0          4    490       7      40.0       0.0                    0\n",
       "1          4    490       7      40.0       0.0                    0\n",
       "2          4    490       7      40.0       0.0                    0\n",
       "3          4    539       7      40.0       0.0                    0\n",
       "4          4    539       7      40.0       0.0                    0\n",
       "..       ...    ...     ...       ...       ...                  ...\n",
       "201        7  36000      10      41.2      29.0                    1\n",
       "202        7  40000      10      41.6      30.0                    0\n",
       "203        7  50000      10      42.3      35.0                    1\n",
       "204        3  59000      13      46.7      25.0                    1\n",
       "205        7  48000      10      45.0      10.0                    1\n",
       "\n",
       "[206 rows x 6 columns]"
      ]
     },
     "execution_count": 599,
     "metadata": {},
     "output_type": "execute_result"
    }
   ],
   "source": [
    "# Разметка текстовых данных в таблице\n",
    "le = LabelEncoder()\n",
    "df['Напиток'] = le.fit_transform(df['Напиток'])\n",
    "df['Страна'] = le.fit_transform(df['Страна'])\n",
    "df"
   ]
  }
 ],
 "metadata": {
  "kernelspec": {
   "display_name": "myenv",
   "language": "python",
   "name": "python3"
  },
  "language_info": {
   "codemirror_mode": {
    "name": "ipython",
    "version": 3
   },
   "file_extension": ".py",
   "mimetype": "text/x-python",
   "name": "python",
   "nbconvert_exporter": "python",
   "pygments_lexer": "ipython3",
   "version": "3.12.3"
  }
 },
 "nbformat": 4,
 "nbformat_minor": 5
}
